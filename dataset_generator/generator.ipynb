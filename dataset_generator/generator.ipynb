{
  "cells": [
    {
      "cell_type": "code",
      "execution_count": 1,
      "metadata": {
        "id": "pn_kWjOEy2Ip"
      },
      "outputs": [],
      "source": [
        "from xml.etree import ElementTree as ET\n",
        "import random"
      ]
    },
    {
      "cell_type": "code",
      "execution_count": 2,
      "metadata": {
        "id": "7BBuwIdTzPfx"
      },
      "outputs": [],
      "source": [
        "def Xml_Preview(file_path):\n",
        "  # Load and parse the XML file\n",
        "  tree = ET.parse(file_path)\n",
        "  root = tree.getroot()\n",
        "\n",
        "  for child in list(root)[:10]:  # Limiting to first 10 for overview\n",
        "      print(ET.tostring(child, encoding='unicode'))\n",
        "\n",
        "  # Checking how many blocks or similar elements are present\n",
        "  blocks = root.findall('.//GameObjects/Block')\n",
        "  print(f\"Total number of blocks: {len(blocks)}\")"
      ]
    },
    {
      "cell_type": "code",
      "execution_count": 3,
      "metadata": {
        "colab": {
          "base_uri": "https://localhost:8080/"
        },
        "id": "Mp-TBrEqzrW5",
        "outputId": "28730def-408d-48cc-f25b-7d9526147f9a"
      },
      "outputs": [
        {
          "name": "stdout",
          "output_type": "stream",
          "text": [
            "<Camera x=\"0\" y=\"1\" minWidth=\"20\" maxWidth=\"30\" />\n",
            "  \n",
            "<Birds>\n",
            "   <Bird type=\"BirdRed\" />\n",
            "   <Bird type=\"BirdRed\" />\n",
            "   <Bird type=\"BirdRed\" />\n",
            "  </Birds>\n",
            "  \n",
            "<Slingshot x=\"-8\" y=\"-2.5\" />\n",
            "  \n",
            "<GameObjects>\n",
            "   <Block type=\"SquareHole\" material=\"ice\" x=\"3.38\" y=\"-2.83\" rotation=\"0.0\" />\n",
            "   <Block type=\"RectFat\" material=\"ice\" x=\"3.8\" y=\"-1.78\" rotation=\"0.0\" />\n",
            "   <Block type=\"RectFat\" material=\"ice\" x=\"5.13\" y=\"-2.48\" rotation=\"90.0\" />\n",
            "   <Block type=\"SquareSmall\" material=\"ice\" x=\"3.52\" y=\"-2.2\" rotation=\"0.0\" />\n",
            "   <Block type=\"SquareTiny\" material=\"stone\" x=\"5.2\" y=\"-1.92\" rotation=\"0.0\" />\n",
            "   <Block type=\"SquareTiny\" material=\"ice\" x=\"5.4799999999999995\" y=\"-2.76\" rotation=\"0.0\" />\n",
            "   <Block type=\"SquareTiny\" material=\"wood\" x=\"5.97\" y=\"-2.9699999999999998\" rotation=\"0.0\" />\n",
            "   <Block type=\"RectTiny\" material=\"wood\" x=\"2.54\" y=\"-3.1799999999999997\" rotation=\"0.0\" />\n",
            "   <Block type=\"RectTiny\" material=\"stone\" x=\"4.08\" y=\"-3.1799999999999997\" rotation=\"0.0\" />\n",
            "   <Block type=\"RectTiny\" material=\"ice\" x=\"4.22\" y=\"-3.39\" rotation=\"0.0\" />\n",
            "   <Block type=\"RectTiny\" material=\"wood\" x=\"3.73\" y=\"-1.3599999999999999\" rotation=\"90.0\" />\n",
            "   <Block type=\"RectSmall\" material=\"stone\" x=\"4.5\" y=\"-1.57\" rotation=\"90.0\" />\n",
            "   <Block type=\"RectMedium\" material=\"wood\" x=\"3.6599999999999997\" y=\"-0.3100000000000001\" rotation=\"90.0\" />\n",
            "   <Block type=\"RectMedium\" material=\"wood\" x=\"4.78\" y=\"-1.4300000000000002\" rotation=\"90.0\" />\n",
            "   <Block type=\"RectBig\" material=\"ice\" x=\"3.03\" y=\"-3.39\" rotation=\"0.0\" />\n",
            "   <Block type=\"RectBig\" material=\"ice\" x=\"4.29\" y=\"-1.78\" rotation=\"90.0\" />\n",
            "   <Block type=\"RectBig\" material=\"wood\" x=\"4.85\" y=\"-2.9699999999999998\" rotation=\"0.0\" />\n",
            "   <Block type=\"RectBig\" material=\"wood\" x=\"5.34\" y=\"-3.1799999999999997\" rotation=\"0.0\" />\n",
            "   <Block type=\"RectBig\" material=\"wood\" x=\"4.99\" y=\"-0.94\" rotation=\"90.0\" />\n",
            "   <Block type=\"RectBig\" material=\"ice\" x=\"5.62\" y=\"-3.39\" rotation=\"0.0\" />\n",
            "   <Block type=\"RectBig\" material=\"stone\" x=\"4.29\" y=\"0.24999999999999994\" rotation=\"90.0\" />\n",
            "   <Pig type=\"BasicSmall\" material=\"None\" x=\"2.6799999999999997\" y=\"-2.9699999999999998\" rotation=\"0.0\" />\n",
            "   <Pig type=\"BasicSmall\" material=\"None\" x=\"4.71\" y=\"1.2999999999999998\" rotation=\"0.0\" />\n",
            "  </GameObjects>\n",
            " \n",
            "Total number of blocks: 21\n"
          ]
        }
      ],
      "source": [
        "Xml_Preview('../main_set/level_0.xml')"
      ]
    },
    {
      "cell_type": "code",
      "execution_count": 4,
      "metadata": {
        "id": "Tq6M_o2A0oaH"
      },
      "outputs": [],
      "source": [
        "def remove_random_non_free_standing_blocks(xml_file, destination, blocks_to_remove=1, type='n'):\n",
        "    # Parse the XML file\n",
        "    tree = ET.parse(xml_file)\n",
        "    root = tree.getroot()\n",
        "\n",
        "    # Find all blocks\n",
        "    blocks = root.findall('.//GameObjects/Block')\n",
        "\n",
        "    # Create a list of all blocks' positions (x, y)\n",
        "    positions = {block: (float(block.get('x')), float(block.get('y'))) for block in blocks}\n",
        "\n",
        "    # Identify free-standing blocks (no blocks directly above them)\n",
        "    # A block is considered to have another block directly above it if there's any block\n",
        "    # within a small x-range (to account for blocks that are not exactly aligned)\n",
        "    # and with a y-value greater than the current block's y-value.\n",
        "    x_tolerance = 0.5  # Tolerance for determining if blocks are \"above\" each other\n",
        "    non_free_standing_blocks = []\n",
        "    for block, (x, y) in positions.items():\n",
        "        if any(\n",
        "            abs(x - other_x) < x_tolerance and other_y > y\n",
        "            for other_block, (other_x, other_y) in positions.items() if other_block != block\n",
        "        ):\n",
        "            non_free_standing_blocks.append(block)\n",
        "\n",
        "    # If the number of blocks to remove is greater than the number of free-standing blocks, adjust it\n",
        "    if type == 'r':\n",
        "      blocks_to_remove = int(len(blocks) * blocks_to_remove)\n",
        "\n",
        "    blocks_to_remove = min(blocks_to_remove, len(non_free_standing_blocks))\n",
        "\n",
        "    # Randomly select free-standing blocks to remove\n",
        "    blocks_to_remove = random.sample(non_free_standing_blocks, blocks_to_remove) if non_free_standing_blocks else []\n",
        "\n",
        "    # Remove the selected blocks\n",
        "    for block in blocks_to_remove:\n",
        "        root.find('.//GameObjects').remove(block)\n",
        "\n",
        "    # Create a new XML file with the modified structure\n",
        "    # write with a new name in destination\n",
        "    \n",
        "    # new_file_path = xml_file.replace('.xml', '_modified.xml')\n",
        "    new_file_path = xml_file.replace('.xml', '.xml')\n",
        "    new_file_path = destination + new_file_path.split('\\\\')[-1]\n",
        "    tree.write(new_file_path)\n",
        "\n",
        "    return new_file_path"
      ]
    },
    {
      "cell_type": "code",
      "execution_count": 5,
      "metadata": {},
      "outputs": [],
      "source": [
        "import os\n",
        "for file in os.listdir('../single_structure'):\n",
        "    if file.endswith('.xml'):\n",
        "        xml_file = os.path.join('../single_structure', file)\n",
        "        new_file = remove_random_non_free_standing_blocks(xml_file, '../modified_set/', 1) # block to remove\n",
        "        # new_file = remove_random_non_free_standing_blocks(xml_file, '../modified_set/', 0.1, 'r')\n",
        "        # print(f\"New file created: {new_file}\")"
      ]
    },
    {
      "cell_type": "code",
      "execution_count": null,
      "metadata": {
        "id": "lWCQ2wrNCkFK"
      },
      "outputs": [],
      "source": []
    },
    {
      "cell_type": "code",
      "execution_count": null,
      "metadata": {},
      "outputs": [],
      "source": []
    }
  ],
  "metadata": {
    "colab": {
      "provenance": []
    },
    "kernelspec": {
      "display_name": "Python 3",
      "name": "python3"
    },
    "language_info": {
      "codemirror_mode": {
        "name": "ipython",
        "version": 3
      },
      "file_extension": ".py",
      "mimetype": "text/x-python",
      "name": "python",
      "nbconvert_exporter": "python",
      "pygments_lexer": "ipython3",
      "version": "3.8.18"
    }
  },
  "nbformat": 4,
  "nbformat_minor": 0
}
