{
 "cells": [
  {
   "cell_type": "code",
   "execution_count": 1,
   "metadata": {},
   "outputs": [
    {
     "name": "stderr",
     "output_type": "stream",
     "text": [
      "c:\\Users\\asus\\AppData\\Local\\Programs\\Python\\Python38\\lib\\site-packages\\numpy\\_distributor_init.py:30: UserWarning: loaded more than 1 DLL from .libs:\n",
      "c:\\Users\\asus\\AppData\\Local\\Programs\\Python\\Python38\\lib\\site-packages\\numpy\\.libs\\libopenblas.EL2C6PLE4ZYW3ECEVIV3OXXGRN2NRFM2.gfortran-win_amd64.dll\n",
      "c:\\Users\\asus\\AppData\\Local\\Programs\\Python\\Python38\\lib\\site-packages\\numpy\\.libs\\libopenblas.WCDJNK7YVMPZQ2ME2ZZHJJRJ3JIKNDB7.gfortran-win_amd64.dll\n",
      "  warnings.warn(\"loaded more than 1 DLL from .libs:\"\n"
     ]
    }
   ],
   "source": [
    "import tensorflow as tf\n",
    "from data_scripts.LevelDataset import LevelDataset"
   ]
  },
  {
   "cell_type": "code",
   "execution_count": 2,
   "metadata": {},
   "outputs": [
    {
     "name": "stdout",
     "output_type": "stream",
     "text": [
      "Image: Tensor(\"Cast:0\", shape=(None, None, None), dtype=float32)\n",
      "*****Dataset:**** <MapDataset element_spec=(TensorSpec(shape=(None, None, None), dtype=tf.float32, name=None), {'block_amount': TensorSpec(shape=(), dtype=tf.int64, name=None), 'level_height': TensorSpec(shape=(), dtype=tf.float32, name=None), 'level_width': TensorSpec(shape=(), dtype=tf.float32, name=None), 'pig_amount': TensorSpec(shape=(), dtype=tf.int64, name=None), 'pixel_height': TensorSpec(shape=(), dtype=tf.int64, name=None), 'pixel_width': TensorSpec(shape=(), dtype=tf.int64, name=None), 'platform_amount': TensorSpec(shape=(), dtype=tf.int64, name=None), 'special_block_amount': TensorSpec(shape=(), dtype=tf.int64, name=None)})>\n"
     ]
    }
   ],
   "source": [
    "dataset_path = \"train_datasets/test_run_200/test_run_200.tfrecords\"\n",
    "dataset = LevelDataset(dataset_path = dataset_path, batch_size = 1)\n",
    "dataset.load_dataset()\n",
    "iter_data = dataset.get_dataset()"
   ]
  },
  {
   "cell_type": "code",
   "execution_count": 3,
   "metadata": {},
   "outputs": [
    {
     "name": "stdout",
     "output_type": "stream",
     "text": [
      "(1, 128, 128, 5)\n",
      "dict_keys(['block_amount', 'level_height', 'level_width', 'pig_amount', 'pixel_height', 'pixel_width', 'platform_amount', 'special_block_amount'])\n"
     ]
    }
   ],
   "source": [
    "for image_batch, data in iter_data:\n",
    "    # print(data)\n",
    "    print(image_batch.shape)\n",
    "    print(data.keys())\n",
    "    original = image_batch[0]\n",
    "    break"
   ]
  },
  {
   "cell_type": "code",
   "execution_count": 4,
   "metadata": {},
   "outputs": [
    {
     "name": "stdout",
     "output_type": "stream",
     "text": [
      "Image: Tensor(\"Cast:0\", shape=(None, None, None), dtype=float32)\n",
      "*****Dataset:**** <MapDataset element_spec=(TensorSpec(shape=(None, None, None), dtype=tf.float32, name=None), {'block_amount': TensorSpec(shape=(), dtype=tf.int64, name=None), 'level_height': TensorSpec(shape=(), dtype=tf.float32, name=None), 'level_width': TensorSpec(shape=(), dtype=tf.float32, name=None), 'pig_amount': TensorSpec(shape=(), dtype=tf.int64, name=None), 'pixel_height': TensorSpec(shape=(), dtype=tf.int64, name=None), 'pixel_width': TensorSpec(shape=(), dtype=tf.int64, name=None), 'platform_amount': TensorSpec(shape=(), dtype=tf.int64, name=None), 'special_block_amount': TensorSpec(shape=(), dtype=tf.int64, name=None)})>\n"
     ]
    }
   ],
   "source": [
    "dataset_path = \"train_datasets/modified_test_run_200/modified_test_run_200.tfrecords\"\n",
    "modified_dataset = LevelDataset(dataset_path = dataset_path, batch_size = 1)\n",
    "modified_dataset.load_dataset()\n",
    "modified_iter_data = modified_dataset.get_dataset()"
   ]
  },
  {
   "cell_type": "code",
   "execution_count": 5,
   "metadata": {},
   "outputs": [
    {
     "name": "stdout",
     "output_type": "stream",
     "text": [
      "(1, 128, 128, 5)\n"
     ]
    }
   ],
   "source": [
    "for image_batch, data in modified_iter_data:\n",
    "    # print(data)\n",
    "    print(image_batch.shape)\n",
    "    modified = image_batch[0]\n",
    "    break"
   ]
  },
  {
   "cell_type": "code",
   "execution_count": 6,
   "metadata": {},
   "outputs": [
    {
     "name": "stdout",
     "output_type": "stream",
     "text": [
      "Positions where elements are different:\n",
      "(array([122, 122, 122, 122, 122, 122, 122, 122, 122, 122, 122, 122, 122,\n",
      "       122, 122, 122, 122, 122, 122, 122, 122, 122, 122, 122, 122, 122,\n",
      "       122, 122, 122, 122, 122, 122, 122, 122, 122, 122, 122, 122, 122,\n",
      "       122, 122, 122, 122, 122, 122, 122, 122, 122, 123, 123, 123, 123,\n",
      "       123, 123, 123, 123, 123, 123, 123, 123, 123, 123, 123, 123, 123,\n",
      "       123, 123, 123, 123, 123, 123, 123, 123, 123, 123, 123, 123, 123,\n",
      "       123, 123, 123, 123, 123, 123, 123, 123, 123, 123, 123, 123, 123,\n",
      "       123, 123, 123, 123, 123, 124, 124, 124, 124, 124, 124, 124, 124,\n",
      "       124, 124, 124, 124, 124, 124, 124, 124, 124, 124, 124, 124, 124,\n",
      "       124, 124, 124, 124, 124, 124, 124, 124, 124, 124, 124, 124, 124,\n",
      "       124, 124, 124, 124, 124, 124, 124, 124, 124, 124, 124, 124, 124,\n",
      "       124], dtype=int64), array([27, 27, 28, 28, 29, 29, 30, 30, 31, 31, 32, 32, 33, 33, 34, 34, 35,\n",
      "       35, 36, 36, 37, 37, 38, 38, 39, 39, 40, 40, 41, 41, 42, 42, 43, 43,\n",
      "       44, 44, 45, 45, 46, 46, 47, 47, 48, 48, 49, 49, 50, 50, 27, 27, 28,\n",
      "       28, 29, 29, 30, 30, 31, 31, 32, 32, 33, 33, 34, 34, 35, 35, 36, 36,\n",
      "       37, 37, 38, 38, 39, 39, 40, 40, 41, 41, 42, 42, 43, 43, 44, 44, 45,\n",
      "       45, 46, 46, 47, 47, 48, 48, 49, 49, 50, 50, 27, 27, 28, 28, 29, 29,\n",
      "       30, 30, 31, 31, 32, 32, 33, 33, 34, 34, 35, 35, 36, 36, 37, 37, 38,\n",
      "       38, 39, 39, 40, 40, 41, 41, 42, 42, 43, 43, 44, 44, 45, 45, 46, 46,\n",
      "       47, 47, 48, 48, 49, 49, 50, 50], dtype=int64), array([0, 3, 0, 3, 0, 3, 0, 3, 0, 3, 0, 3, 0, 3, 0, 3, 0, 3, 0, 3, 0, 3,\n",
      "       0, 3, 0, 3, 0, 3, 0, 3, 0, 3, 0, 3, 0, 3, 0, 3, 0, 3, 0, 3, 0, 3,\n",
      "       0, 3, 0, 3, 0, 3, 0, 3, 0, 3, 0, 3, 0, 3, 0, 3, 0, 3, 0, 3, 0, 3,\n",
      "       0, 3, 0, 3, 0, 3, 0, 3, 0, 3, 0, 3, 0, 3, 0, 3, 0, 3, 0, 3, 0, 3,\n",
      "       0, 3, 0, 3, 0, 3, 0, 3, 0, 3, 0, 3, 0, 3, 0, 3, 0, 3, 0, 3, 0, 3,\n",
      "       0, 3, 0, 3, 0, 3, 0, 3, 0, 3, 0, 3, 0, 3, 0, 3, 0, 3, 0, 3, 0, 3,\n",
      "       0, 3, 0, 3, 0, 3, 0, 3, 0, 3, 0, 3], dtype=int64))\n",
      "Number of differences: 144\n"
     ]
    }
   ],
   "source": [
    "import numpy as np\n",
    "mask = tf.not_equal(original, modified)\n",
    "indices = tf.where(mask)\n",
    "\n",
    "# Print the positions where the elements are different\n",
    "print(\"Positions where elements are different:\")\n",
    "print(np.where(mask))\n",
    "\n",
    "num_differences = np.sum(mask)\n",
    "\n",
    "# Print the number of differences\n",
    "print(\"Number of differences:\", num_differences)"
   ]
  },
  {
   "cell_type": "code",
   "execution_count": 7,
   "metadata": {},
   "outputs": [
    {
     "name": "stdout",
     "output_type": "stream",
     "text": [
      "Difference at position [122  27   0]: original=[-1.], modified=[1.]\n",
      "Difference at position [122  27   3]: original=[1.], modified=[-1.]\n",
      "Difference at position [122  28   0]: original=[-1.], modified=[1.]\n",
      "Difference at position [122  28   3]: original=[1.], modified=[-1.]\n",
      "Difference at position [122  29   0]: original=[-1.], modified=[1.]\n",
      "Difference at position [122  29   3]: original=[1.], modified=[-1.]\n",
      "Difference at position [122  30   0]: original=[-1.], modified=[1.]\n",
      "Difference at position [122  30   3]: original=[1.], modified=[-1.]\n",
      "Difference at position [122  31   0]: original=[-1.], modified=[1.]\n",
      "Difference at position [122  31   3]: original=[1.], modified=[-1.]\n",
      "Difference at position [122  32   0]: original=[-1.], modified=[1.]\n",
      "Difference at position [122  32   3]: original=[1.], modified=[-1.]\n",
      "Difference at position [122  33   0]: original=[-1.], modified=[1.]\n",
      "Difference at position [122  33   3]: original=[1.], modified=[-1.]\n",
      "Difference at position [122  34   0]: original=[-1.], modified=[1.]\n",
      "Difference at position [122  34   3]: original=[1.], modified=[-1.]\n",
      "Difference at position [122  35   0]: original=[-1.], modified=[1.]\n",
      "Difference at position [122  35   3]: original=[1.], modified=[-1.]\n",
      "Difference at position [122  36   0]: original=[-1.], modified=[1.]\n",
      "Difference at position [122  36   3]: original=[1.], modified=[-1.]\n",
      "Difference at position [122  37   0]: original=[-1.], modified=[1.]\n",
      "Difference at position [122  37   3]: original=[1.], modified=[-1.]\n",
      "Difference at position [122  38   0]: original=[-1.], modified=[1.]\n",
      "Difference at position [122  38   3]: original=[1.], modified=[-1.]\n",
      "Difference at position [122  39   0]: original=[-1.], modified=[1.]\n",
      "Difference at position [122  39   3]: original=[1.], modified=[-1.]\n",
      "Difference at position [122  40   0]: original=[-1.], modified=[1.]\n",
      "Difference at position [122  40   3]: original=[1.], modified=[-1.]\n",
      "Difference at position [122  41   0]: original=[-1.], modified=[1.]\n",
      "Difference at position [122  41   3]: original=[1.], modified=[-1.]\n",
      "Difference at position [122  42   0]: original=[-1.], modified=[1.]\n",
      "Difference at position [122  42   3]: original=[1.], modified=[-1.]\n",
      "Difference at position [122  43   0]: original=[-1.], modified=[1.]\n",
      "Difference at position [122  43   3]: original=[1.], modified=[-1.]\n",
      "Difference at position [122  44   0]: original=[-1.], modified=[1.]\n",
      "Difference at position [122  44   3]: original=[1.], modified=[-1.]\n",
      "Difference at position [122  45   0]: original=[-1.], modified=[1.]\n",
      "Difference at position [122  45   3]: original=[1.], modified=[-1.]\n",
      "Difference at position [122  46   0]: original=[-1.], modified=[1.]\n",
      "Difference at position [122  46   3]: original=[1.], modified=[-1.]\n",
      "Difference at position [122  47   0]: original=[-1.], modified=[1.]\n",
      "Difference at position [122  47   3]: original=[1.], modified=[-1.]\n",
      "Difference at position [122  48   0]: original=[-1.], modified=[1.]\n",
      "Difference at position [122  48   3]: original=[1.], modified=[-1.]\n",
      "Difference at position [122  49   0]: original=[-1.], modified=[1.]\n",
      "Difference at position [122  49   3]: original=[1.], modified=[-1.]\n",
      "Difference at position [122  50   0]: original=[-1.], modified=[1.]\n",
      "Difference at position [122  50   3]: original=[1.], modified=[-1.]\n",
      "Difference at position [123  27   0]: original=[-1.], modified=[1.]\n",
      "Difference at position [123  27   3]: original=[1.], modified=[-1.]\n",
      "Difference at position [123  28   0]: original=[-1.], modified=[1.]\n",
      "Difference at position [123  28   3]: original=[1.], modified=[-1.]\n",
      "Difference at position [123  29   0]: original=[-1.], modified=[1.]\n",
      "Difference at position [123  29   3]: original=[1.], modified=[-1.]\n",
      "Difference at position [123  30   0]: original=[-1.], modified=[1.]\n",
      "Difference at position [123  30   3]: original=[1.], modified=[-1.]\n",
      "Difference at position [123  31   0]: original=[-1.], modified=[1.]\n",
      "Difference at position [123  31   3]: original=[1.], modified=[-1.]\n",
      "Difference at position [123  32   0]: original=[-1.], modified=[1.]\n",
      "Difference at position [123  32   3]: original=[1.], modified=[-1.]\n",
      "Difference at position [123  33   0]: original=[-1.], modified=[1.]\n",
      "Difference at position [123  33   3]: original=[1.], modified=[-1.]\n",
      "Difference at position [123  34   0]: original=[-1.], modified=[1.]\n",
      "Difference at position [123  34   3]: original=[1.], modified=[-1.]\n",
      "Difference at position [123  35   0]: original=[-1.], modified=[1.]\n",
      "Difference at position [123  35   3]: original=[1.], modified=[-1.]\n",
      "Difference at position [123  36   0]: original=[-1.], modified=[1.]\n",
      "Difference at position [123  36   3]: original=[1.], modified=[-1.]\n",
      "Difference at position [123  37   0]: original=[-1.], modified=[1.]\n",
      "Difference at position [123  37   3]: original=[1.], modified=[-1.]\n",
      "Difference at position [123  38   0]: original=[-1.], modified=[1.]\n",
      "Difference at position [123  38   3]: original=[1.], modified=[-1.]\n",
      "Difference at position [123  39   0]: original=[-1.], modified=[1.]\n",
      "Difference at position [123  39   3]: original=[1.], modified=[-1.]\n",
      "Difference at position [123  40   0]: original=[-1.], modified=[1.]\n",
      "Difference at position [123  40   3]: original=[1.], modified=[-1.]\n",
      "Difference at position [123  41   0]: original=[-1.], modified=[1.]\n",
      "Difference at position [123  41   3]: original=[1.], modified=[-1.]\n",
      "Difference at position [123  42   0]: original=[-1.], modified=[1.]\n",
      "Difference at position [123  42   3]: original=[1.], modified=[-1.]\n",
      "Difference at position [123  43   0]: original=[-1.], modified=[1.]\n",
      "Difference at position [123  43   3]: original=[1.], modified=[-1.]\n",
      "Difference at position [123  44   0]: original=[-1.], modified=[1.]\n",
      "Difference at position [123  44   3]: original=[1.], modified=[-1.]\n",
      "Difference at position [123  45   0]: original=[-1.], modified=[1.]\n",
      "Difference at position [123  45   3]: original=[1.], modified=[-1.]\n",
      "Difference at position [123  46   0]: original=[-1.], modified=[1.]\n",
      "Difference at position [123  46   3]: original=[1.], modified=[-1.]\n",
      "Difference at position [123  47   0]: original=[-1.], modified=[1.]\n",
      "Difference at position [123  47   3]: original=[1.], modified=[-1.]\n",
      "Difference at position [123  48   0]: original=[-1.], modified=[1.]\n",
      "Difference at position [123  48   3]: original=[1.], modified=[-1.]\n",
      "Difference at position [123  49   0]: original=[-1.], modified=[1.]\n",
      "Difference at position [123  49   3]: original=[1.], modified=[-1.]\n",
      "Difference at position [123  50   0]: original=[-1.], modified=[1.]\n",
      "Difference at position [123  50   3]: original=[1.], modified=[-1.]\n",
      "Difference at position [124  27   0]: original=[-1.], modified=[1.]\n",
      "Difference at position [124  27   3]: original=[1.], modified=[-1.]\n",
      "Difference at position [124  28   0]: original=[-1.], modified=[1.]\n",
      "Difference at position [124  28   3]: original=[1.], modified=[-1.]\n",
      "Difference at position [124  29   0]: original=[-1.], modified=[1.]\n",
      "Difference at position [124  29   3]: original=[1.], modified=[-1.]\n",
      "Difference at position [124  30   0]: original=[-1.], modified=[1.]\n",
      "Difference at position [124  30   3]: original=[1.], modified=[-1.]\n",
      "Difference at position [124  31   0]: original=[-1.], modified=[1.]\n",
      "Difference at position [124  31   3]: original=[1.], modified=[-1.]\n",
      "Difference at position [124  32   0]: original=[-1.], modified=[1.]\n",
      "Difference at position [124  32   3]: original=[1.], modified=[-1.]\n",
      "Difference at position [124  33   0]: original=[-1.], modified=[1.]\n",
      "Difference at position [124  33   3]: original=[1.], modified=[-1.]\n",
      "Difference at position [124  34   0]: original=[-1.], modified=[1.]\n",
      "Difference at position [124  34   3]: original=[1.], modified=[-1.]\n",
      "Difference at position [124  35   0]: original=[-1.], modified=[1.]\n",
      "Difference at position [124  35   3]: original=[1.], modified=[-1.]\n",
      "Difference at position [124  36   0]: original=[-1.], modified=[1.]\n",
      "Difference at position [124  36   3]: original=[1.], modified=[-1.]\n",
      "Difference at position [124  37   0]: original=[-1.], modified=[1.]\n",
      "Difference at position [124  37   3]: original=[1.], modified=[-1.]\n",
      "Difference at position [124  38   0]: original=[-1.], modified=[1.]\n",
      "Difference at position [124  38   3]: original=[1.], modified=[-1.]\n",
      "Difference at position [124  39   0]: original=[-1.], modified=[1.]\n",
      "Difference at position [124  39   3]: original=[1.], modified=[-1.]\n",
      "Difference at position [124  40   0]: original=[-1.], modified=[1.]\n",
      "Difference at position [124  40   3]: original=[1.], modified=[-1.]\n",
      "Difference at position [124  41   0]: original=[-1.], modified=[1.]\n",
      "Difference at position [124  41   3]: original=[1.], modified=[-1.]\n",
      "Difference at position [124  42   0]: original=[-1.], modified=[1.]\n",
      "Difference at position [124  42   3]: original=[1.], modified=[-1.]\n",
      "Difference at position [124  43   0]: original=[-1.], modified=[1.]\n",
      "Difference at position [124  43   3]: original=[1.], modified=[-1.]\n",
      "Difference at position [124  44   0]: original=[-1.], modified=[1.]\n",
      "Difference at position [124  44   3]: original=[1.], modified=[-1.]\n",
      "Difference at position [124  45   0]: original=[-1.], modified=[1.]\n",
      "Difference at position [124  45   3]: original=[1.], modified=[-1.]\n",
      "Difference at position [124  46   0]: original=[-1.], modified=[1.]\n",
      "Difference at position [124  46   3]: original=[1.], modified=[-1.]\n",
      "Difference at position [124  47   0]: original=[-1.], modified=[1.]\n",
      "Difference at position [124  47   3]: original=[1.], modified=[-1.]\n",
      "Difference at position [124  48   0]: original=[-1.], modified=[1.]\n",
      "Difference at position [124  48   3]: original=[1.], modified=[-1.]\n",
      "Difference at position [124  49   0]: original=[-1.], modified=[1.]\n",
      "Difference at position [124  49   3]: original=[1.], modified=[-1.]\n",
      "Difference at position [124  50   0]: original=[-1.], modified=[1.]\n",
      "Difference at position [124  50   3]: original=[1.], modified=[-1.]\n"
     ]
    }
   ],
   "source": [
    "for idx in indices:\n",
    "    row_idx, col_idx, channel_idx = idx[0], idx[1], idx[2]\n",
    "    original_value = tf.gather_nd(original, [idx])\n",
    "    modified_value = tf.gather_nd(modified, [idx])\n",
    "    print(f\"Difference at position {idx}: original={original_value.numpy()}, modified={modified_value.numpy()}\")"
   ]
  },
  {
   "cell_type": "code",
   "execution_count": null,
   "metadata": {},
   "outputs": [],
   "source": [
    "count = 0\n",
    "for idx in indices:\n",
    "    count += 1\n",
    "\n",
    "    row_idx, col_idx, channel_idx = idx[0], idx[1], idx[2]\n",
    "    original_value = tf.gather_nd(original, [idx])  # Get original value\n",
    "    modified = tf.tensor_scatter_nd_update(\n",
    "        modified, [[row_idx, col_idx, channel_idx]], original_value  # Update modified tensor\n",
    "    )\n",
    "\n",
    "\n",
    "\n",
    "print(\"Modified tensor with original values rewritten:\")\n",
    "print(modified)"
   ]
  },
  {
   "cell_type": "code",
   "execution_count": 8,
   "metadata": {},
   "outputs": [],
   "source": [
    "from converter.gan_processing.DecodingFunctions import DecodingFunctions\n",
    "\n",
    "# functions to move the output from [-1, 1] to [0, 1] range\n",
    "decoding_functions = DecodingFunctions(threshold_callback = lambda: 0.5)\n",
    "decoding_functions.set_rescaling(rescaling = tf.keras.layers.Rescaling)\n",
    "decoding_functions.update_rescale_values(max_value = 1, shift_value = 1)\n",
    "rescale_function = decoding_functions.rescale\n",
    "\n",
    "# function to flatten the gan output to an image with 1 channel\n",
    "decoding_function = decoding_functions.argmax_multilayer_decoding_with_air"
   ]
  },
  {
   "cell_type": "code",
   "execution_count": 9,
   "metadata": {},
   "outputs": [
    {
     "data": {
      "text/plain": [
       "<Figure size 432x288 with 0 Axes>"
      ]
     },
     "metadata": {},
     "output_type": "display_data"
    }
   ],
   "source": [
    "import matplotlib.pyplot as plt\n",
    "\n",
    "ref_img, _ = decoding_function(original)\n",
    "# print(gan_outputs_reformatted[i].shape)\n",
    "\n",
    "# save image trough matplotlib\n",
    "plt.imshow(ref_img)\n",
    "plt.savefig('original_level.png')\n",
    "# clear plot\n",
    "plt.clf()\n",
    "\n",
    "ref_img, _ = decoding_function(modified)\n",
    "# print(gan_outputs_reformatted[i].shape)\n",
    "\n",
    "# save image trough matplotlib\n",
    "plt.imshow(ref_img)\n",
    "plt.savefig('modified1_level.png')\n",
    "# clear plot\n",
    "plt.clf()"
   ]
  },
  {
   "cell_type": "code",
   "execution_count": 10,
   "metadata": {},
   "outputs": [],
   "source": [
    "from converter.to_img_converter.MultiLayerStackDecoder import MultiLayerStackDecoder\n",
    "from level.LevelVisualizer import LevelVisualizer\n",
    "from level.LevelReader import LevelReader\n",
    "\n",
    "\n",
    "def load_level_decoder():\n",
    "    multilayer_stack_decoder = MultiLayerStackDecoder()\n",
    "    multilayer_stack_decoder.round_to_next_int = True\n",
    "    multilayer_stack_decoder.custom_kernel_scale = True\n",
    "    multilayer_stack_decoder.minus_one_border = False\n",
    "    multilayer_stack_decoder.combine_layers = True\n",
    "    multilayer_stack_decoder.negative_air_value = -1\n",
    "    multilayer_stack_decoder.cutoff_point = 0.5\n",
    "    multilayer_stack_decoder.display_decoding = False\n",
    "    return multilayer_stack_decoder\n",
    "\n",
    "multilayer_stack_decoder = load_level_decoder()\n",
    "level_visualizer = LevelVisualizer()\n",
    "level_reader = LevelReader()"
   ]
  },
  {
   "cell_type": "code",
   "execution_count": 11,
   "metadata": {},
   "outputs": [
    {
     "name": "stdout",
     "output_type": "stream",
     "text": [
      "level Path: created, Blocks: 17 Pigs: 1 Platform: 0 Bird: 0\n"
     ]
    },
    {
     "data": {
      "text/plain": [
       "<Figure size 600x400 with 0 Axes>"
      ]
     },
     "metadata": {},
     "output_type": "display_data"
    }
   ],
   "source": [
    "import os\n",
    "level = multilayer_stack_decoder.decode(modified.numpy())\n",
    "print(\"level\", level)\n",
    "\n",
    "fig, ax = plt.subplots(1, 1, dpi = 100)\n",
    "level_visualizer.create_img_of_structure(\n",
    "    level.get_used_elements(), use_grid = False, ax = ax, scaled = True\n",
    ")\n",
    "fig.savefig('modified1_decoded_level.png')\n",
    "plt.clf()\n",
    "\n",
    "# Save level to xml\n",
    "level_xml = level_reader.create_level_from_structure(level.get_used_elements(), red_birds = True, move_to_ground = True)\n",
    "level_reader.write_xml_file(level_xml, os.path.join(\"./\", f'modified_level.xml'))"
   ]
  }
 ],
 "metadata": {
  "kernelspec": {
   "display_name": "Python 3",
   "language": "python",
   "name": "python3"
  },
  "language_info": {
   "codemirror_mode": {
    "name": "ipython",
    "version": 3
   },
   "file_extension": ".py",
   "mimetype": "text/x-python",
   "name": "python",
   "nbconvert_exporter": "python",
   "pygments_lexer": "ipython3",
   "version": "3.8.3"
  }
 },
 "nbformat": 4,
 "nbformat_minor": 2
}
